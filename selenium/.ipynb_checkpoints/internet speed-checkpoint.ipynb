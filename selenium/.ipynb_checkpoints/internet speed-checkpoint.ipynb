{
 "cells": [
  {
   "cell_type": "code",
   "execution_count": 16,
   "id": "e4d2b732",
   "metadata": {},
   "outputs": [
    {
     "name": "stdout",
     "output_type": "stream",
     "text": [
      "Collecting speedtest-cli\n",
      "  Downloading speedtest_cli-2.1.3-py2.py3-none-any.whl (23 kB)\n",
      "Installing collected packages: speedtest-cli\n",
      "Successfully installed speedtest-cli-2.1.3\n",
      "Note: you may need to restart the kernel to use updated packages.\n"
     ]
    }
   ],
   "source": [
    "pip install speedtest-cli"
   ]
  },
  {
   "cell_type": "code",
   "execution_count": 18,
   "id": "d7ad32cb",
   "metadata": {},
   "outputs": [
    {
     "name": "stdout",
     "output_type": "stream",
     "text": [
      "What speed do you want to test:  \n",
      "  \n",
      "1) Download Speed  \n",
      "  \n",
      "2) Upload Speed  \n",
      "  \n",
      "3) Ping \n",
      "  \n",
      "Your Choice: 1\n",
      "23359483.29330524\n"
     ]
    }
   ],
   "source": [
    "# Python program to test\n",
    "# internet speed\n",
    "  \n",
    "import speedtest  \n",
    "  \n",
    "  \n",
    "st = speedtest.Speedtest()\n",
    "  \n",
    "option = int(input('''What speed do you want to test:  \n",
    "  \n",
    "1) Download Speed  \n",
    "  \n",
    "2) Upload Speed  \n",
    "  \n",
    "3) Ping \n",
    "  \n",
    "Your Choice: '''))\n",
    "  \n",
    "  \n",
    "if option == 1:  \n",
    "  \n",
    "    print(st.download())  \n",
    "  \n",
    "elif option == 2: \n",
    "  \n",
    "    print(st.upload())  \n",
    "  \n",
    "elif option == 3:  \n",
    "  \n",
    "    servernames =[]  \n",
    "  \n",
    "    st.get_servers(servernames)  \n",
    "  \n",
    "    print(st.results.ping)  \n",
    "  \n",
    "else:\n",
    "  \n",
    "    print(\"Please enter the correct choice !\") "
   ]
  },
  {
   "cell_type": "code",
   "execution_count": 19,
   "id": "fc920c72",
   "metadata": {},
   "outputs": [
    {
     "name": "stdout",
     "output_type": "stream",
     "text": [
      "22.28 MB\n"
     ]
    }
   ],
   "source": [
    "\n",
    "def humansize(nbytes):\n",
    "    suffixes = ['B', 'KB', 'MB', 'GB', 'TB', 'PB']\n",
    "    i = 0\n",
    "    while nbytes >= 1024 and i < len(suffixes)-1:\n",
    "        nbytes /= 1024.\n",
    "        i += 1\n",
    "    f = ('%.2f' % nbytes).rstrip('0').rstrip('.')\n",
    "    return '%s %s' % (f, suffixes[i])\n",
    "\n",
    "#Readable\n",
    "print(humansize(23359483.29330524))\n",
    "\n"
   ]
  },
  {
   "cell_type": "code",
   "execution_count": 21,
   "id": "13d1f7ef",
   "metadata": {},
   "outputs": [
    {
     "name": "stdout",
     "output_type": "stream",
     "text": [
      "23143666.10457136\n",
      "26544613.770760458\n",
      "17129750.16977076\n",
      "25473479.87569882\n",
      "18451997.333442304\n",
      "24743459.920178596\n",
      "22349472.973012727\n",
      "29031371.488003913\n",
      "20485858.952921003\n",
      "25489458.44541564\n"
     ]
    }
   ],
   "source": [
    "import speedtest  \n",
    "import time\n",
    "st = speedtest.Speedtest()\n",
    "start_time=time.time()\n",
    "\n",
    "speed_list=[]\n",
    "def human_readable_size(nbytes):\n",
    "    suffixes = ['B', 'KB', 'MB', 'GB', 'TB', 'PB']\n",
    "    i = 0\n",
    "    while nbytes >= 1024 and i < len(suffixes)-1:\n",
    "        nbytes /= 1024.\n",
    "        i += 1\n",
    "    f = ('%.2f' % nbytes).rstrip('0').rstrip('.')\n",
    "    return '%s %s' % (f, suffixes[i])\n",
    "\n",
    "for i in range(10):\n",
    "    speed=st.download()\n",
    "    time.sleep(3)\n",
    "    \n",
    "    \n",
    "    \n",
    "\n"
   ]
  },
  {
   "cell_type": "code",
   "execution_count": 23,
   "id": "9089aac9",
   "metadata": {},
   "outputs": [],
   "source": [
    "c=time.time()"
   ]
  },
  {
   "cell_type": "code",
   "execution_count": 25,
   "id": "98bce8ca",
   "metadata": {},
   "outputs": [
    {
     "data": {
      "text/plain": [
       "21.91644859313965"
      ]
     },
     "execution_count": 25,
     "metadata": {},
     "output_type": "execute_result"
    }
   ],
   "source": [
    "time.time()-c"
   ]
  },
  {
   "cell_type": "code",
   "execution_count": null,
   "id": "198c3197",
   "metadata": {},
   "outputs": [],
   "source": []
  }
 ],
 "metadata": {
  "kernelspec": {
   "display_name": "Python 3 (ipykernel)",
   "language": "python",
   "name": "python3"
  },
  "language_info": {
   "codemirror_mode": {
    "name": "ipython",
    "version": 3
   },
   "file_extension": ".py",
   "mimetype": "text/x-python",
   "name": "python",
   "nbconvert_exporter": "python",
   "pygments_lexer": "ipython3",
   "version": "3.9.7"
  }
 },
 "nbformat": 4,
 "nbformat_minor": 5
}
