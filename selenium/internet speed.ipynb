{
 "cells": [
  {
   "cell_type": "code",
   "execution_count": 16,
   "id": "421bcb35",
   "metadata": {},
   "outputs": [
    {
     "name": "stdout",
     "output_type": "stream",
     "text": [
      "Collecting speedtest-cli\n",
      "  Downloading speedtest_cli-2.1.3-py2.py3-none-any.whl (23 kB)\n",
      "Installing collected packages: speedtest-cli\n",
      "Successfully installed speedtest-cli-2.1.3\n",
      "Note: you may need to restart the kernel to use updated packages.\n"
     ]
    }
   ],
   "source": [
    "pip install speedtest-cli"
   ]
  },
  {
   "cell_type": "code",
   "execution_count": 18,
   "id": "06698f18",
   "metadata": {},
   "outputs": [
    {
     "name": "stdout",
     "output_type": "stream",
     "text": [
      "What speed do you want to test:  \n",
      "  \n",
      "1) Download Speed  \n",
      "  \n",
      "2) Upload Speed  \n",
      "  \n",
      "3) Ping \n",
      "  \n",
      "Your Choice: 1\n",
      "23359483.29330524\n"
     ]
    }
   ],
   "source": [
    "# Python program to test\n",
    "# internet speed\n",
    "  \n",
    "import speedtest  \n",
    "  \n",
    "  \n",
    "st = speedtest.Speedtest()\n",
    "  \n",
    "option = int(input('''What speed do you want to test:  \n",
    "  \n",
    "1) Download Speed  \n",
    "  \n",
    "2) Upload Speed  \n",
    "  \n",
    "3) Ping \n",
    "  \n",
    "Your Choice: '''))\n",
    "  \n",
    "  \n",
    "if option == 1:  \n",
    "  \n",
    "    print(st.download())  \n",
    "  \n",
    "elif option == 2: \n",
    "  \n",
    "    print(st.upload())  \n",
    "  \n",
    "elif option == 3:  \n",
    "  \n",
    "    servernames =[]  \n",
    "  \n",
    "    st.get_servers(servernames)  \n",
    "  \n",
    "    print(st.results.ping)  \n",
    "  \n",
    "else:\n",
    "  \n",
    "    print(\"Please enter the correct choice !\") "
   ]
  },
  {
   "cell_type": "code",
   "execution_count": 19,
   "id": "7af5f18f",
   "metadata": {},
   "outputs": [
    {
     "name": "stdout",
     "output_type": "stream",
     "text": [
      "22.28 MB\n"
     ]
    }
   ],
   "source": [
    "\n",
    "def humansize(nbytes):\n",
    "    suffixes = ['B', 'KB', 'MB', 'GB', 'TB', 'PB']\n",
    "    i = 0\n",
    "    while nbytes >= 1024 and i < len(suffixes)-1:\n",
    "        nbytes /= 1024.\n",
    "        i += 1\n",
    "    f = ('%.2f' % nbytes).rstrip('0').rstrip('.')\n",
    "    return '%s %s' % (f, suffixes[i])\n",
    "\n",
    "#Readable\n",
    "print(humansize(23359483.29330524))\n",
    "\n"
   ]
  },
  {
   "cell_type": "code",
   "execution_count": 32,
   "id": "940cb5e6",
   "metadata": {},
   "outputs": [
    {
     "name": "stdout",
     "output_type": "stream",
     "text": [
      "2.45 MB\n",
      "2.54 MB\n",
      "2.64 MB\n",
      "2.04 MB\n",
      "2.78 MB\n",
      "2.77 MB\n",
      "2.5 MB\n",
      "2.46 MB\n",
      "2.29 MB\n",
      "2.1 MB\n",
      "total time taken 136.56 seconds\n"
     ]
    },
    {
     "data": {
      "image/png": "[encoded data removed]",
      "text/plain": [
       "<Figure size 432x288 with 1 Axes>"
      ]
     },
     "metadata": {
      "needs_background": "light"
     },
     "output_type": "display_data"
    }
   ],
   "source": [
    "import speedtest  \n",
    "import time\n",
    "import matplotlib.pyplot as plt\n",
    "\n",
    "st = speedtest.Speedtest()\n",
    "start_time=time.time()\n",
    "\n",
    "speed_list=[]\n",
    "def human_readable_size(nbytes):\n",
    "    suffixes = ['B', 'KB', 'MB', 'GB', 'TB', 'PB']\n",
    "    i = 0\n",
    "    while nbytes >= 1024 and i < len(suffixes)-1:\n",
    "        nbytes /= 1024.\n",
    "        i += 1\n",
    "    f = ('%.2f' % nbytes).rstrip('0').rstrip('.')\n",
    "    return '%s %s' % (f, suffixes[i])\n",
    "\n",
    "for i in range(10):\n",
    "    speed=st.download()\n",
    "    time.sleep(3)\n",
    "    readable_speed=human_readable_size(speed)\n",
    "    print(readable_speed)\n",
    "    speed_list.append(readable_speed)\n",
    "\n",
    "print(f\"total time taken {round((time.time()-start_time),2)} seconds\")\n",
    "    \n",
    "plt.bar(list(range(1,11)),speed_list)\n",
    "\n",
    "plt.title('Speed Test Result')\n",
    "plt.xlabel('Test')\n",
    "plt.ylabel('Speed MB')\n",
    "plt.show()\n",
    "\n"
   ]
  },
  {
   "cell_type": "code",
   "execution_count": 35,
   "id": "e337c112",
   "metadata": {},
   "outputs": [
    {
     "data": {
      "image/png": "[encoded data removed]",
      "text/plain": [
       "<Figure size 432x288 with 1 Axes>"
      ]
     },
     "metadata": {
      "needs_background": "light"
     },
     "output_type": "display_data"
    }
   ],
   "source": [
    "plt.plot(speed_list)\n",
    "\n",
    "plt.title('Speed Test Result')\n",
    "plt.xlabel('Test')\n",
    "plt.ylabel('Speed MB')\n",
    "plt.show()"
   ]
  },
  {
   "cell_type": "code",
   "execution_count": null,
   "id": "ec557274",
   "metadata": {},
   "outputs": [],
   "source": []
  }
 ],
 "metadata": {
  "kernelspec": {
   "display_name": "Python 3 (ipykernel)",
   "language": "python",
   "name": "python3"
  },
  "language_info": {
   "codemirror_mode": {
    "name": "ipython",
    "version": 3
   },
   "file_extension": ".py",
   "mimetype": "text/x-python",
   "name": "python",
   "nbconvert_exporter": "python",
   "pygments_lexer": "ipython3",
   "version": "3.9.7"
  }
 },
 "nbformat": 4,
 "nbformat_minor": 5
}
