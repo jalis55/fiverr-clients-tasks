{
 "cells": [
  {
   "cell_type": "code",
   "execution_count": 134,
   "id": "4acab756",
   "metadata": {},
   "outputs": [],
   "source": [
    "from selenium import webdriver\n",
    "from selenium.webdriver.common.keys import Keys\n",
    "from selenium.webdriver.support import expected_conditions as EC\n",
    "from selenium.webdriver.common.by import By\n",
    "from selenium.webdriver.support.wait import WebDriverWait\n",
    "import time"
   ]
  },
  {
   "cell_type": "code",
   "execution_count": 135,
   "id": "f46f3ea3",
   "metadata": {},
   "outputs": [],
   "source": [
    "driver = webdriver.Chrome()\n",
    "\n",
    "driver.set_window_size(1024, 600)\n",
    "driver.maximize_window()\n",
    "#open the webpage\n",
    "driver.get(\"https://pythonsandbox.com/\")\n"
   ]
  },
  {
   "cell_type": "code",
   "execution_count": 136,
   "id": "2a46f0e2",
   "metadata": {},
   "outputs": [],
   "source": [
    "# editor=driver.find_element(By.XPATH, '//textarea[@name=\"mirror\"]').get_attribute('value')"
   ]
  },
  {
   "cell_type": "code",
   "execution_count": 137,
   "id": "a85efc11",
   "metadata": {},
   "outputs": [],
   "source": [
    "time.sleep(10)"
   ]
  },
  {
   "cell_type": "code",
   "execution_count": 138,
   "id": "afd2dca5",
   "metadata": {},
   "outputs": [],
   "source": [
    "editor=driver.find_element(By.XPATH, '//textarea[@name=\"mirror\"]')\n",
    "# .send_keys(\"xyz@pqr.com\")"
   ]
  },
  {
   "cell_type": "code",
   "execution_count": 139,
   "id": "619da6f6",
   "metadata": {},
   "outputs": [
    {
     "data": {
      "text/plain": [
       "selenium.webdriver.remote.webelement.WebElement"
      ]
     },
     "execution_count": 139,
     "metadata": {},
     "output_type": "execute_result"
    }
   ],
   "source": [
    "type(editor)"
   ]
  },
  {
   "cell_type": "code",
   "execution_count": 143,
   "id": "e2305800",
   "metadata": {},
   "outputs": [],
   "source": [
    "# driver.execute_script(\"$(arguments[0]).click();\", editor)\n",
    "driver.execute_script('arguments[0].value = \"\";', editor)\n",
    "# driver.execute_script(\"$(arguments[0]).clear();\", editor)"
   ]
  },
  {
   "cell_type": "code",
   "execution_count": 132,
   "id": "b43e2881",
   "metadata": {},
   "outputs": [
    {
     "name": "stdout",
     "output_type": "stream",
     "text": [
      "Element is visible? False\n"
     ]
    }
   ],
   "source": [
    "print(\"Element is visible? \" + str(editor.is_displayed()))"
   ]
  },
  {
   "cell_type": "code",
   "execution_count": null,
   "id": "c206ee17",
   "metadata": {},
   "outputs": [],
   "source": [
    "editor= WebDriverWait(driver, 10).until(EC.visibility_of_element_located((By.NAME, 'mirror')))\n"
   ]
  },
  {
   "cell_type": "code",
   "execution_count": null,
   "id": "943de239",
   "metadata": {},
   "outputs": [],
   "source": []
  },
  {
   "cell_type": "code",
   "execution_count": null,
   "id": "a24b47f9",
   "metadata": {},
   "outputs": [],
   "source": [
    "editor=driver.find_element(By.XPATH, '//textarea[@name=\"mirror\"]')"
   ]
  },
  {
   "cell_type": "code",
   "execution_count": null,
   "id": "f4ad1b8d",
   "metadata": {},
   "outputs": [],
   "source": [
    "editor.send_keys(Keys.CONTROL + \"a\")\n",
    "editor.send_keys(Keys.DELETE)\n"
   ]
  },
  {
   "cell_type": "code",
   "execution_count": 35,
   "id": "39c5be94",
   "metadata": {},
   "outputs": [],
   "source": [
    "run=WebDriverWait(driver, 10).until(EC.element_to_be_clickable((By.XPATH, \"//button [@class='btn btn-info runner']\"))).click()"
   ]
  },
  {
   "cell_type": "code",
   "execution_count": null,
   "id": "2457c507",
   "metadata": {},
   "outputs": [],
   "source": []
  },
  {
   "cell_type": "code",
   "execution_count": 10,
   "id": "03dc7c6d",
   "metadata": {},
   "outputs": [
    {
     "data": {
      "text/plain": [
       "True"
      ]
     },
     "execution_count": 10,
     "metadata": {},
     "output_type": "execute_result"
    }
   ],
   "source": [
    "from selenium import webdriver\n",
    "from selenium.webdriver.common.keys import Keys\n",
    "from selenium.webdriver.support import expected_conditions as EC\n",
    "from selenium.webdriver.common.by import By\n",
    "from selenium.webdriver.support.wait import WebDriverWait\n",
    "from selenium.webdriver.chrome.options import Options\n",
    "\n",
    "driver = webdriver.Chrome()\n",
    "\n",
    "driver.set_window_size(1024, 600)\n",
    "driver.maximize_window()\n",
    "\n",
    "#open the webpage\n",
    "driver.get(\"https://pythonsandbox.com/\")\n",
    "\n",
    "run=WebDriverWait(driver, 10).until(EC.element_to_be_clickable((By.XPATH, \"//button [@class='btn btn-info runner']\"))).click()\n",
    "driver.execute_script(\"window.scrollTo(0, 0)\")\n",
    "driver.save_screenshot('screenshot.png')"
   ]
  },
  {
   "cell_type": "code",
   "execution_count": 2,
   "id": "825f1a11",
   "metadata": {},
   "outputs": [
    {
     "data": {
      "text/plain": [
       "True"
      ]
     },
     "execution_count": 2,
     "metadata": {},
     "output_type": "execute_result"
    }
   ],
   "source": [
    "# driver.save_screenshot('screenshot.png')"
   ]
  },
  {
   "cell_type": "code",
   "execution_count": 1,
   "id": "46d01d47",
   "metadata": {},
   "outputs": [],
   "source": [
    "from selenium import webdriver\n",
    "from selenium.webdriver.common.keys import Keys\n",
    "from selenium.webdriver.support import expected_conditions as EC\n",
    "from selenium.webdriver.common.by import By\n",
    "from selenium.webdriver.support.wait import WebDriverWait\n",
    "import time\n",
    "\n",
    "driver = webdriver.Chrome()\n",
    "\n",
    "driver.set_window_size(1024, 600)\n",
    "driver.maximize_window()\n",
    "#open the webpage\n",
    "driver.get(\"https://pythonsandbox.com/\")\n",
    "\n",
    "textarea = WebDriverWait(driver, 10).until(\n",
    "        EC.presence_of_element_located((By.XPATH, \"//textarea[@id='mirror']\"))\n",
    "    )\n"
   ]
  },
  {
   "cell_type": "code",
   "execution_count": 4,
   "id": "bb524eaf",
   "metadata": {},
   "outputs": [],
   "source": [
    "textarea = WebDriverWait(driver, 10).until(\n",
    "        EC.presence_of_element_located((By.XPATH, \"//textarea[@id='mirror']\"))\n",
    "    )"
   ]
  },
  {
   "cell_type": "code",
   "execution_count": null,
   "id": "e9c09a0f",
   "metadata": {},
   "outputs": [],
   "source": [
    "textarea.send_keys(Keys.RETURN) "
   ]
  },
  {
   "cell_type": "code",
   "execution_count": 8,
   "id": "647f2f9b",
   "metadata": {},
   "outputs": [],
   "source": []
  },
  {
   "cell_type": "code",
   "execution_count": null,
   "id": "9b4c3cb0",
   "metadata": {},
   "outputs": [],
   "source": []
  }
 ],
 "metadata": {
  "kernelspec": {
   "display_name": "Python 3 (ipykernel)",
   "language": "python",
   "name": "python3"
  },
  "language_info": {
   "codemirror_mode": {
    "name": "ipython",
    "version": 3
   },
   "file_extension": ".py",
   "mimetype": "text/x-python",
   "name": "python",
   "nbconvert_exporter": "python",
   "pygments_lexer": "ipython3",
   "version": "3.9.7"
  }
 },
 "nbformat": 4,
 "nbformat_minor": 5
}
