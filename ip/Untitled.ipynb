{
 "cells": [
  {
   "cell_type": "code",
   "execution_count": 1,
   "id": "8dc9ce5a",
   "metadata": {},
   "outputs": [],
   "source": [
    "import pandas as pd"
   ]
  },
  {
   "cell_type": "code",
   "execution_count": 2,
   "id": "c5f6effb",
   "metadata": {},
   "outputs": [],
   "source": [
    "df=pd.read_excel('TBL_Sales_CustomerVisits.xlsx').set_index('ds')"
   ]
  },
  {
   "cell_type": "code",
   "execution_count": 3,
   "id": "e66f8e0c",
   "metadata": {},
   "outputs": [
    {
     "data": {
      "text/html": [
       "<div>\n",
       "<style scoped>\n",
       "    .dataframe tbody tr th:only-of-type {\n",
       "        vertical-align: middle;\n",
       "    }\n",
       "\n",
       "    .dataframe tbody tr th {\n",
       "        vertical-align: top;\n",
       "    }\n",
       "\n",
       "    .dataframe thead th {\n",
       "        text-align: right;\n",
       "    }\n",
       "</style>\n",
       "<table border=\"1\" class=\"dataframe\">\n",
       "  <thead>\n",
       "    <tr style=\"text-align: right;\">\n",
       "      <th></th>\n",
       "      <th>sales</th>\n",
       "      <th>customer visits</th>\n",
       "    </tr>\n",
       "    <tr>\n",
       "      <th>ds</th>\n",
       "      <th></th>\n",
       "      <th></th>\n",
       "    </tr>\n",
       "  </thead>\n",
       "  <tbody>\n",
       "    <tr>\n",
       "      <th>2017-01-02</th>\n",
       "      <td>7725068.73</td>\n",
       "      <td>262741.0</td>\n",
       "    </tr>\n",
       "    <tr>\n",
       "      <th>2017-01-03</th>\n",
       "      <td>6979434.92</td>\n",
       "      <td>252488.0</td>\n",
       "    </tr>\n",
       "    <tr>\n",
       "      <th>2017-01-04</th>\n",
       "      <td>6763282.67</td>\n",
       "      <td>244155.0</td>\n",
       "    </tr>\n",
       "    <tr>\n",
       "      <th>2017-01-05</th>\n",
       "      <td>7290287.82</td>\n",
       "      <td>251236.0</td>\n",
       "    </tr>\n",
       "    <tr>\n",
       "      <th>2017-01-06</th>\n",
       "      <td>11022365.42</td>\n",
       "      <td>304887.0</td>\n",
       "    </tr>\n",
       "    <tr>\n",
       "      <th>...</th>\n",
       "      <td>...</td>\n",
       "      <td>...</td>\n",
       "    </tr>\n",
       "    <tr>\n",
       "      <th>2022-02-25</th>\n",
       "      <td>10109286.22</td>\n",
       "      <td>226723.0</td>\n",
       "    </tr>\n",
       "    <tr>\n",
       "      <th>2022-02-26</th>\n",
       "      <td>10686784.16</td>\n",
       "      <td>227216.0</td>\n",
       "    </tr>\n",
       "    <tr>\n",
       "      <th>2022-02-28</th>\n",
       "      <td>6982801.86</td>\n",
       "      <td>202867.0</td>\n",
       "    </tr>\n",
       "    <tr>\n",
       "      <th>2022-03-01</th>\n",
       "      <td>6448843.11</td>\n",
       "      <td>187919.0</td>\n",
       "    </tr>\n",
       "    <tr>\n",
       "      <th>2022-03-02</th>\n",
       "      <td>5792110.57</td>\n",
       "      <td>177050.0</td>\n",
       "    </tr>\n",
       "  </tbody>\n",
       "</table>\n",
       "<p>1728 rows × 2 columns</p>\n",
       "</div>"
      ],
      "text/plain": [
       "                  sales  customer visits\n",
       "ds                                      \n",
       "2017-01-02   7725068.73         262741.0\n",
       "2017-01-03   6979434.92         252488.0\n",
       "2017-01-04   6763282.67         244155.0\n",
       "2017-01-05   7290287.82         251236.0\n",
       "2017-01-06  11022365.42         304887.0\n",
       "...                 ...              ...\n",
       "2022-02-25  10109286.22         226723.0\n",
       "2022-02-26  10686784.16         227216.0\n",
       "2022-02-28   6982801.86         202867.0\n",
       "2022-03-01   6448843.11         187919.0\n",
       "2022-03-02   5792110.57         177050.0\n",
       "\n",
       "[1728 rows x 2 columns]"
      ]
     },
     "execution_count": 3,
     "metadata": {},
     "output_type": "execute_result"
    }
   ],
   "source": [
    "df"
   ]
  },
  {
   "cell_type": "code",
   "execution_count": 4,
   "id": "b065f497",
   "metadata": {},
   "outputs": [],
   "source": [
    "selected_year='2019'\n",
    "start_date = f'{selected_year}-01-01'\n",
    "end_date = f'{selected_year}-12-31'\n"
   ]
  },
  {
   "cell_type": "code",
   "execution_count": 5,
   "id": "b398529e",
   "metadata": {},
   "outputs": [
    {
     "data": {
      "text/html": [
       "<div>\n",
       "<style scoped>\n",
       "    .dataframe tbody tr th:only-of-type {\n",
       "        vertical-align: middle;\n",
       "    }\n",
       "\n",
       "    .dataframe tbody tr th {\n",
       "        vertical-align: top;\n",
       "    }\n",
       "\n",
       "    .dataframe thead th {\n",
       "        text-align: right;\n",
       "    }\n",
       "</style>\n",
       "<table border=\"1\" class=\"dataframe\">\n",
       "  <thead>\n",
       "    <tr style=\"text-align: right;\">\n",
       "      <th></th>\n",
       "      <th>sales</th>\n",
       "      <th>customer visits</th>\n",
       "    </tr>\n",
       "    <tr>\n",
       "      <th>ds</th>\n",
       "      <th></th>\n",
       "      <th></th>\n",
       "    </tr>\n",
       "  </thead>\n",
       "  <tbody>\n",
       "    <tr>\n",
       "      <th>2019-01-02</th>\n",
       "      <td>7363846.55</td>\n",
       "      <td>252867.0</td>\n",
       "    </tr>\n",
       "    <tr>\n",
       "      <th>2019-01-03</th>\n",
       "      <td>7272131.36</td>\n",
       "      <td>243666.0</td>\n",
       "    </tr>\n",
       "    <tr>\n",
       "      <th>2019-01-04</th>\n",
       "      <td>9618052.48</td>\n",
       "      <td>267807.0</td>\n",
       "    </tr>\n",
       "    <tr>\n",
       "      <th>2019-01-05</th>\n",
       "      <td>12034612.69</td>\n",
       "      <td>298562.0</td>\n",
       "    </tr>\n",
       "    <tr>\n",
       "      <th>2019-01-06</th>\n",
       "      <td>21608.43</td>\n",
       "      <td>1386.0</td>\n",
       "    </tr>\n",
       "    <tr>\n",
       "      <th>...</th>\n",
       "      <td>...</td>\n",
       "      <td>...</td>\n",
       "    </tr>\n",
       "    <tr>\n",
       "      <th>2019-12-26</th>\n",
       "      <td>8203742.24</td>\n",
       "      <td>249166.0</td>\n",
       "    </tr>\n",
       "    <tr>\n",
       "      <th>2019-12-27</th>\n",
       "      <td>9689912.14</td>\n",
       "      <td>262221.0</td>\n",
       "    </tr>\n",
       "    <tr>\n",
       "      <th>2019-12-28</th>\n",
       "      <td>11455911.87</td>\n",
       "      <td>281193.0</td>\n",
       "    </tr>\n",
       "    <tr>\n",
       "      <th>2019-12-30</th>\n",
       "      <td>16671912.67</td>\n",
       "      <td>370494.0</td>\n",
       "    </tr>\n",
       "    <tr>\n",
       "      <th>2019-12-31</th>\n",
       "      <td>13944597.58</td>\n",
       "      <td>356912.0</td>\n",
       "    </tr>\n",
       "  </tbody>\n",
       "</table>\n",
       "<p>341 rows × 2 columns</p>\n",
       "</div>"
      ],
      "text/plain": [
       "                  sales  customer visits\n",
       "ds                                      \n",
       "2019-01-02   7363846.55         252867.0\n",
       "2019-01-03   7272131.36         243666.0\n",
       "2019-01-04   9618052.48         267807.0\n",
       "2019-01-05  12034612.69         298562.0\n",
       "2019-01-06     21608.43           1386.0\n",
       "...                 ...              ...\n",
       "2019-12-26   8203742.24         249166.0\n",
       "2019-12-27   9689912.14         262221.0\n",
       "2019-12-28  11455911.87         281193.0\n",
       "2019-12-30  16671912.67         370494.0\n",
       "2019-12-31  13944597.58         356912.0\n",
       "\n",
       "[341 rows x 2 columns]"
      ]
     },
     "execution_count": 5,
     "metadata": {},
     "output_type": "execute_result"
    }
   ],
   "source": [
    "s=df[start_date:end_date]\n",
    "s"
   ]
  },
  {
   "cell_type": "code",
   "execution_count": 6,
   "id": "7a229616",
   "metadata": {},
   "outputs": [],
   "source": [
    "year_to_modify='2019'\n",
    "start_date = f'{year_to_modify}-01-01'\n",
    "end_date = f'{year_to_modify}-12-31'"
   ]
  },
  {
   "cell_type": "code",
   "execution_count": 7,
   "id": "03b21888",
   "metadata": {},
   "outputs": [],
   "source": [
    "m=df[start_date:end_date]"
   ]
  },
  {
   "cell_type": "code",
   "execution_count": 8,
   "id": "0ce6d703",
   "metadata": {},
   "outputs": [],
   "source": [
    "year_to_modify='2021'\n",
    "start_date = f'{year_to_modify}-01-01'\n",
    "end_date = f'{year_to_modify}-12-31'"
   ]
  },
  {
   "cell_type": "code",
   "execution_count": 9,
   "id": "91ae2c9a",
   "metadata": {},
   "outputs": [],
   "source": [
    "s=df[start_date:end_date]"
   ]
  },
  {
   "cell_type": "code",
   "execution_count": 10,
   "id": "18da2f01",
   "metadata": {},
   "outputs": [],
   "source": [
    "m=s\n"
   ]
  },
  {
   "cell_type": "code",
   "execution_count": 11,
   "id": "7ce6fefb",
   "metadata": {},
   "outputs": [
    {
     "data": {
      "text/html": [
       "<div>\n",
       "<style scoped>\n",
       "    .dataframe tbody tr th:only-of-type {\n",
       "        vertical-align: middle;\n",
       "    }\n",
       "\n",
       "    .dataframe tbody tr th {\n",
       "        vertical-align: top;\n",
       "    }\n",
       "\n",
       "    .dataframe thead th {\n",
       "        text-align: right;\n",
       "    }\n",
       "</style>\n",
       "<table border=\"1\" class=\"dataframe\">\n",
       "  <thead>\n",
       "    <tr style=\"text-align: right;\">\n",
       "      <th></th>\n",
       "      <th>sales</th>\n",
       "      <th>customer visits</th>\n",
       "    </tr>\n",
       "    <tr>\n",
       "      <th>ds</th>\n",
       "      <th></th>\n",
       "      <th></th>\n",
       "    </tr>\n",
       "  </thead>\n",
       "  <tbody>\n",
       "    <tr>\n",
       "      <th>2021-01-02</th>\n",
       "      <td>12645617.10</td>\n",
       "      <td>266869.0</td>\n",
       "    </tr>\n",
       "    <tr>\n",
       "      <th>2021-01-04</th>\n",
       "      <td>8391742.24</td>\n",
       "      <td>210636.0</td>\n",
       "    </tr>\n",
       "    <tr>\n",
       "      <th>2021-01-05</th>\n",
       "      <td>7380629.02</td>\n",
       "      <td>187505.0</td>\n",
       "    </tr>\n",
       "    <tr>\n",
       "      <th>2021-01-06</th>\n",
       "      <td>7393373.19</td>\n",
       "      <td>189742.0</td>\n",
       "    </tr>\n",
       "    <tr>\n",
       "      <th>2021-01-07</th>\n",
       "      <td>7407525.79</td>\n",
       "      <td>184158.0</td>\n",
       "    </tr>\n",
       "    <tr>\n",
       "      <th>...</th>\n",
       "      <td>...</td>\n",
       "      <td>...</td>\n",
       "    </tr>\n",
       "    <tr>\n",
       "      <th>2021-12-27</th>\n",
       "      <td>9970674.41</td>\n",
       "      <td>233756.0</td>\n",
       "    </tr>\n",
       "    <tr>\n",
       "      <th>2021-12-28</th>\n",
       "      <td>8634974.01</td>\n",
       "      <td>199927.0</td>\n",
       "    </tr>\n",
       "    <tr>\n",
       "      <th>2021-12-29</th>\n",
       "      <td>10927852.35</td>\n",
       "      <td>224364.0</td>\n",
       "    </tr>\n",
       "    <tr>\n",
       "      <th>2021-12-30</th>\n",
       "      <td>16418052.61</td>\n",
       "      <td>291097.0</td>\n",
       "    </tr>\n",
       "    <tr>\n",
       "      <th>2021-12-31</th>\n",
       "      <td>13580647.78</td>\n",
       "      <td>278385.0</td>\n",
       "    </tr>\n",
       "  </tbody>\n",
       "</table>\n",
       "<p>329 rows × 2 columns</p>\n",
       "</div>"
      ],
      "text/plain": [
       "                  sales  customer visits\n",
       "ds                                      \n",
       "2021-01-02  12645617.10         266869.0\n",
       "2021-01-04   8391742.24         210636.0\n",
       "2021-01-05   7380629.02         187505.0\n",
       "2021-01-06   7393373.19         189742.0\n",
       "2021-01-07   7407525.79         184158.0\n",
       "...                 ...              ...\n",
       "2021-12-27   9970674.41         233756.0\n",
       "2021-12-28   8634974.01         199927.0\n",
       "2021-12-29  10927852.35         224364.0\n",
       "2021-12-30  16418052.61         291097.0\n",
       "2021-12-31  13580647.78         278385.0\n",
       "\n",
       "[329 rows x 2 columns]"
      ]
     },
     "execution_count": 11,
     "metadata": {},
     "output_type": "execute_result"
    }
   ],
   "source": [
    "m"
   ]
  },
  {
   "cell_type": "code",
   "execution_count": 14,
   "id": "a88ed682",
   "metadata": {},
   "outputs": [],
   "source": [
    "def replace_year_value(column,selected_year,modified_year):\n",
    "#     selected_year=selected_year\n",
    "    s_start_date = f'{selected_year}-01-01'\n",
    "    s_end_date = f'{selected_year}-12-31'\n",
    "    \n",
    "\n",
    "    m_start_date = f'{modified_year}-01-01'\n",
    "    m_end_date = f'{modified_year}-12-31'\n",
    "    \n",
    "    df[s_start_date:s_end_date][column]=df[m_start_date:m_end_date][column]\n",
    "\n",
    "    \n",
    "\n",
    "    \n",
    "    \n",
    "    print(df['sales']['2019'])"
   ]
  },
  {
   "cell_type": "code",
   "execution_count": 15,
   "id": "2696317d",
   "metadata": {},
   "outputs": [
    {
     "name": "stdout",
     "output_type": "stream",
     "text": [
      "ds\n",
      "2019-01-02   NaN\n",
      "2019-01-03   NaN\n",
      "2019-01-04   NaN\n",
      "2019-01-05   NaN\n",
      "2019-01-06   NaN\n",
      "              ..\n",
      "2019-12-26   NaN\n",
      "2019-12-27   NaN\n",
      "2019-12-28   NaN\n",
      "2019-12-30   NaN\n",
      "2019-12-31   NaN\n",
      "Name: sales, Length: 341, dtype: float64\n"
     ]
    },
    {
     "name": "stderr",
     "output_type": "stream",
     "text": [
      "C:\\Users\\jalis\\AppData\\Local\\Temp/ipykernel_13404/3601034713.py:10: SettingWithCopyWarning: \n",
      "A value is trying to be set on a copy of a slice from a DataFrame.\n",
      "Try using .loc[row_indexer,col_indexer] = value instead\n",
      "\n",
      "See the caveats in the documentation: https://pandas.pydata.org/pandas-docs/stable/user_guide/indexing.html#returning-a-view-versus-a-copy\n",
      "  df[s_start_date:s_end_date][column]=df[m_start_date:m_end_date][column]\n"
     ]
    }
   ],
   "source": [
    "replace_year_value('sales','2019','2021')"
   ]
  },
  {
   "cell_type": "code",
   "execution_count": 143,
   "id": "84ff030b",
   "metadata": {},
   "outputs": [
    {
     "data": {
      "text/plain": [
       "ds\n",
       "2019-01-02     7363846.55\n",
       "2019-01-03     7272131.36\n",
       "2019-01-04     9618052.48\n",
       "2019-01-05    12034612.69\n",
       "2019-01-06       21608.43\n",
       "                 ...     \n",
       "2019-12-26     8203742.24\n",
       "2019-12-27     9689912.14\n",
       "2019-12-28    11455911.87\n",
       "2019-12-30    16671912.67\n",
       "2019-12-31    13944597.58\n",
       "Name: sales, Length: 341, dtype: float64"
      ]
     },
     "execution_count": 143,
     "metadata": {},
     "output_type": "execute_result"
    }
   ],
   "source": []
  },
  {
   "cell_type": "code",
   "execution_count": 155,
   "id": "a27d2909",
   "metadata": {},
   "outputs": [
    {
     "data": {
      "text/plain": [
       "ds\n",
       "2021-01-02   NaN\n",
       "2021-01-04   NaN\n",
       "2021-01-05   NaN\n",
       "2021-01-06   NaN\n",
       "2021-01-07   NaN\n",
       "              ..\n",
       "2021-12-27   NaN\n",
       "2021-12-28   NaN\n",
       "2021-12-29   NaN\n",
       "2021-12-30   NaN\n",
       "2021-12-31   NaN\n",
       "Name: sales, Length: 329, dtype: float64"
      ]
     },
     "execution_count": 155,
     "metadata": {},
     "output_type": "execute_result"
    }
   ],
   "source": [
    "df['sales']['2021']"
   ]
  },
  {
   "cell_type": "code",
   "execution_count": null,
   "id": "270e6cae",
   "metadata": {},
   "outputs": [],
   "source": []
  },
  {
   "cell_type": "code",
   "execution_count": null,
   "id": "22861401",
   "metadata": {},
   "outputs": [],
   "source": []
  }
 ],
 "metadata": {
  "kernelspec": {
   "display_name": "Python 3 (ipykernel)",
   "language": "python",
   "name": "python3"
  },
  "language_info": {
   "codemirror_mode": {
    "name": "ipython",
    "version": 3
   },
   "file_extension": ".py",
   "mimetype": "text/x-python",
   "name": "python",
   "nbconvert_exporter": "python",
   "pygments_lexer": "ipython3",
   "version": "3.9.7"
  }
 },
 "nbformat": 4,
 "nbformat_minor": 5
}
