{
 "cells": [
  {
   "cell_type": "markdown",
   "id": "e3925b06",
   "metadata": {},
   "source": [
    "Make a python program that parses data files in csv format, 4 csv files provided in the zip folder.\n",
    "\n",
    "can't use any existing csv reading or csv parsing code e.g. pandas, numpy csv or any inbuilt python csv parser. Instead you need to code the parsing capabilities using pythons file I/O operations. \n",
    "\n",
    "Important to consider the generalisation ability of the parser on other formats provided in the csv files (e.g. string and dates may be in different styles/formats, some of which are found in the 'definition of the csv format' on page 2 in this link https://datatracker.ietf.org/doc/html/rfc4180#section-2)\n",
    "\n",
    "Important to consider error handling ability when faced with files violating csv format in some way (exception detection and handling of format violations) If input contains invalid data the csv parser should not generate any unhandled exceptions. Should aim for recovery of any valid data from the files to provide a sensible partial result.\n",
    "\n",
    "Make modifications to the parser universally applicable to other files with csv format considering both input data and format variations within scope of csv definition. \n",
    "\n",
    "using your parser write another program which computes the minimum, maximum, mean and standard deviation of each component of the weather data. For this part you can use numpy, inbuilt python maths module, pandas. \n",
    "\n",
    "Note that the use of these libraries for other reasons unrelated to csv parsing is allowed (e.g. NumPy for structuring data). Further, you may use libraries tailored for handling tricky data types (e.g. datetime, re). The CSV-parser is not allowed any additional parameters except the CSV file name, assume file will be in same folder as your code)"
   ]
  },
  {
   "cell_type": "code",
   "execution_count": 2,
   "id": "f2024327",
   "metadata": {},
   "outputs": [],
   "source": [
    "# for date, there could be many different formats which we need to consider. Here are multiple \n",
    "# human-readable date formats you are likely to come across for the same date:\n",
    "\n",
    "# 5th October 2020\n",
    "# 5/10/2020\n",
    "# 5/10/20\n",
    "# 10/5/2020\n",
    "# Monday, October 5th, 2020\n",
    "# 10-5-20\n",
    "# 5th October 2020\n",
    "# OCT5\n",
    "# 10 Oct 2020\n",
    "# 5th October 2020\n",
    "# 2020-10-05"
   ]
  },
  {
   "cell_type": "code",
   "execution_count": null,
   "id": "6753aee4",
   "metadata": {},
   "outputs": [],
   "source": []
  }
 ],
 "metadata": {
  "kernelspec": {
   "display_name": "Python 3 (ipykernel)",
   "language": "python",
   "name": "python3"
  },
  "language_info": {
   "codemirror_mode": {
    "name": "ipython",
    "version": 3
   },
   "file_extension": ".py",
   "mimetype": "text/x-python",
   "name": "python",
   "nbconvert_exporter": "python",
   "pygments_lexer": "ipython3",
   "version": "3.9.7"
  }
 },
 "nbformat": 4,
 "nbformat_minor": 5
}
